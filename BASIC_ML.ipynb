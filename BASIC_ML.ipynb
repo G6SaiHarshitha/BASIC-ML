{
  "nbformat": 4,
  "nbformat_minor": 0,
  "metadata": {
    "colab": {
      "name": "BASIC ML",
      "provenance": [],
      "authorship_tag": "ABX9TyMoC8e5OPmSiO2vJOPDvkTW",
      "include_colab_link": true
    },
    "kernelspec": {
      "name": "python3",
      "display_name": "Python 3"
    },
    "language_info": {
      "name": "python"
    }
  },
  "cells": [
    {
      "cell_type": "markdown",
      "metadata": {
        "id": "view-in-github",
        "colab_type": "text"
      },
      "source": [
        "<a href=\"https://colab.research.google.com/github/G6SaiHarshitha/BASIC-ML/blob/main/BASIC_ML.ipynb\" target=\"_parent\"><img src=\"https://colab.research.google.com/assets/colab-badge.svg\" alt=\"Open In Colab\"/></a>"
      ]
    },
    {
      "cell_type": "markdown",
      "metadata": {
        "id": "yuRGAu29a-ym"
      },
      "source": [
        "python program for maximum of three numbers "
      ]
    },
    {
      "cell_type": "code",
      "metadata": {
        "colab": {
          "base_uri": "https://localhost:8080/"
        },
        "id": "zIlsjDOmbQ6i",
        "outputId": "e1aa3cb1-b479-4495-b504-073ead0643e4"
      },
      "source": [
        "a = int(input())\n",
        "b = int(input())\n",
        "c = int(input())\n",
        "if a>b and a>c:\n",
        "  print(a)\n",
        "elif b>a and b>c:\n",
        "  print(b)\n",
        "else:\n",
        "  print(c)"
      ],
      "execution_count": 1,
      "outputs": [
        {
          "output_type": "stream",
          "text": [
            "3\n",
            "4\n",
            "5\n",
            "5\n"
          ],
          "name": "stdout"
        }
      ]
    },
    {
      "cell_type": "markdown",
      "metadata": {
        "id": "e3Y9WWIQdxrC"
      },
      "source": [
        "python program for GCD of given numbers"
      ]
    },
    {
      "cell_type": "code",
      "metadata": {
        "colab": {
          "base_uri": "https://localhost:8080/"
        },
        "id": "mBS0dyyUeR1k",
        "outputId": "9c60d62d-aabd-4bd7-a935-c91ceb979e5d"
      },
      "source": [
        "num1 = int(input(\"enter the first number=\"))\n",
        "num2 = int(input(\"enter the second number=\"))\n",
        "if num1<num2:\n",
        "  smaller = num1\n",
        "else:\n",
        "  smaller = num2\n",
        "for i in range(1,smaller+1):\n",
        "  if num1%i==0 and num2%i==0:\n",
        "    gcd=i\n",
        "print(\"GCD of\",num1,\"and\",num2,\"is:\",gcd)"
      ],
      "execution_count": 3,
      "outputs": [
        {
          "output_type": "stream",
          "text": [
            "enter the first number=4\n",
            "enter the second number=8\n",
            "GCD of 4 and 8 is: 4\n"
          ],
          "name": "stdout"
        }
      ]
    },
    {
      "cell_type": "markdown",
      "metadata": {
        "id": "H_717wAIfgMj"
      },
      "source": [
        "python program for sum of digits\n"
      ]
    },
    {
      "cell_type": "code",
      "metadata": {
        "colab": {
          "base_uri": "https://localhost:8080/"
        },
        "id": "KwqMVimCfsBM",
        "outputId": "cf67d1f2-00ef-409b-9445-555fbf75284f"
      },
      "source": [
        "a = int(input())\n",
        "rem = 0\n",
        "sum = 0\n",
        "while(a!=0):\n",
        "  rem = a%10\n",
        "  sum = sum+rem\n",
        "  a = a//10\n",
        "print(sum)"
      ],
      "execution_count": 6,
      "outputs": [
        {
          "output_type": "stream",
          "text": [
            "259\n",
            "16\n"
          ],
          "name": "stdout"
        }
      ]
    },
    {
      "cell_type": "markdown",
      "metadata": {
        "id": "bqkWU_X8gkk_"
      },
      "source": [
        "python program to check whether the number is even or odd"
      ]
    },
    {
      "cell_type": "code",
      "metadata": {
        "colab": {
          "base_uri": "https://localhost:8080/"
        },
        "id": "k_0Sn-nWgsmS",
        "outputId": "fb236d3a-b3fb-4203-8dc0-b918e9f3f6bc"
      },
      "source": [
        "a = int(input())\n",
        "if a%2==0:\n",
        "  print(\"even\")\n",
        "else:\n",
        "  print(\"odd\")"
      ],
      "execution_count": 7,
      "outputs": [
        {
          "output_type": "stream",
          "text": [
            "4\n",
            "even\n"
          ],
          "name": "stdout"
        }
      ]
    },
    {
      "cell_type": "markdown",
      "metadata": {
        "id": "Ob1MZ7nCg-Vv"
      },
      "source": [
        "python program for palindrome"
      ]
    },
    {
      "cell_type": "code",
      "metadata": {
        "colab": {
          "base_uri": "https://localhost:8080/"
        },
        "id": "6eOIRKYghEYZ",
        "outputId": "0af07563-cd44-45fb-feec-af207d01c8f5"
      },
      "source": [
        "i = int(input(\"enter number:\"))\n",
        "rev = 0\n",
        "x = i\n",
        "while(i>0):\n",
        "  rev=(rev*10)+i%10\n",
        "  i = i//10\n",
        "if (x==rev):\n",
        "  print(\"Palindrome number\")\n",
        "else:\n",
        "  print(\"Not Palindrome\")"
      ],
      "execution_count": 8,
      "outputs": [
        {
          "output_type": "stream",
          "text": [
            "enter number:2002\n",
            "Palindrome number\n"
          ],
          "name": "stdout"
        }
      ]
    }
  ]
}